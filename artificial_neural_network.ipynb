{
  "nbformat": 4,
  "nbformat_minor": 0,
  "metadata": {
    "colab": {
      "provenance": [],
      "include_colab_link": true
    },
    "kernelspec": {
      "name": "python3",
      "display_name": "Python 3"
    }
  },
  "cells": [
    {
      "cell_type": "markdown",
      "metadata": {
        "id": "view-in-github",
        "colab_type": "text"
      },
      "source": [
        "<a href=\"https://colab.research.google.com/github/Mahsasalimi/Machine-Learning/blob/main/artificial_neural_network.ipynb\" target=\"_parent\"><img src=\"https://colab.research.google.com/assets/colab-badge.svg\" alt=\"Open In Colab\"/></a>"
      ]
    },
    {
      "cell_type": "markdown",
      "metadata": {
        "id": "3cbb7fRy-eyr"
      },
      "source": [
        "# Artificial Neural Network1"
      ]
    },
    {
      "cell_type": "markdown",
      "metadata": {
        "id": "8sNDnxE2-pwE"
      },
      "source": [
        "### Importing the libraries"
      ]
    },
    {
      "cell_type": "code",
      "metadata": {
        "id": "lxChR1Rk-umf"
      },
      "source": [
        "import numpy as np\n",
        "import pandas as pd\n",
        "import tensorflow as tf"
      ],
      "execution_count": 1,
      "outputs": []
    },
    {
      "cell_type": "code",
      "metadata": {
        "id": "uBTqR3nacj0e",
        "colab": {
          "base_uri": "https://localhost:8080/",
          "height": 36
        },
        "outputId": "32939da2-7b4c-497a-d34d-dd1bc9bb0a5e"
      },
      "source": [
        "tf.__version__"
      ],
      "execution_count": 2,
      "outputs": [
        {
          "output_type": "execute_result",
          "data": {
            "text/plain": [
              "'2.12.0'"
            ],
            "application/vnd.google.colaboratory.intrinsic+json": {
              "type": "string"
            }
          },
          "metadata": {},
          "execution_count": 2
        }
      ]
    },
    {
      "cell_type": "markdown",
      "metadata": {
        "id": "AG3FQEch-yuA"
      },
      "source": [
        "## Part 1 - Data Preprocessing"
      ]
    },
    {
      "cell_type": "markdown",
      "metadata": {
        "id": "-4zq8Mza_D9O"
      },
      "source": [
        "### Importing the dataset"
      ]
    },
    {
      "cell_type": "code",
      "metadata": {
        "id": "B9CV13Co_HHM"
      },
      "source": [
        "dataset = pd.read_excel('Folds5x2_pp.xlsx')\n",
        "X = dataset.iloc[:, :-1].values\n",
        "y = dataset.iloc[:, -1].values"
      ],
      "execution_count": 3,
      "outputs": []
    },
    {
      "cell_type": "markdown",
      "metadata": {
        "id": "VC6omXel_Up0"
      },
      "source": [
        "### Splitting the dataset into the Training set and Test set"
      ]
    },
    {
      "cell_type": "code",
      "metadata": {
        "id": "L5edeb2r_agx"
      },
      "source": [
        "from sklearn.model_selection import train_test_split\n",
        "X_train, X_test, y_train, y_test = train_test_split(X, y, test_size = 0.2, random_state = 0)"
      ],
      "execution_count": 4,
      "outputs": []
    },
    {
      "cell_type": "markdown",
      "metadata": {
        "id": "_mSLlAT9_eyI"
      },
      "source": [
        "## Part 2 - Building the ANN"
      ]
    },
    {
      "cell_type": "markdown",
      "metadata": {
        "id": "CsBULd_f_wLY"
      },
      "source": [
        "### Initializing the ANN"
      ]
    },
    {
      "cell_type": "code",
      "metadata": {
        "id": "J6Hd97Ls__Nz"
      },
      "source": [
        "ann = tf.keras.models.Sequential()"
      ],
      "execution_count": 5,
      "outputs": []
    },
    {
      "cell_type": "markdown",
      "metadata": {
        "id": "iitAFJS_ABUn"
      },
      "source": [
        "### Adding the input layer and the first hidden layer"
      ]
    },
    {
      "cell_type": "code",
      "metadata": {
        "id": "ksO_Vv40AHix"
      },
      "source": [
        "ann.add(tf.keras.layers.Dense(units=6, activation='relu'))"
      ],
      "execution_count": 6,
      "outputs": []
    },
    {
      "cell_type": "markdown",
      "metadata": {
        "id": "-lb4kK_wAKbs"
      },
      "source": [
        "### Adding the second hidden layer"
      ]
    },
    {
      "cell_type": "code",
      "metadata": {
        "id": "c2357OqEAQOQ"
      },
      "source": [
        "ann.add(tf.keras.layers.Dense(units=6, activation='relu'))"
      ],
      "execution_count": 7,
      "outputs": []
    },
    {
      "cell_type": "markdown",
      "metadata": {
        "id": "jwMOmKb3AdBY"
      },
      "source": [
        "### Adding the output layer"
      ]
    },
    {
      "cell_type": "code",
      "metadata": {
        "id": "YFATpzsUAkLL"
      },
      "source": [
        "ann.add(tf.keras.layers.Dense(units=1))"
      ],
      "execution_count": 8,
      "outputs": []
    },
    {
      "cell_type": "markdown",
      "metadata": {
        "id": "fq7e4fF6A1yy"
      },
      "source": [
        "## Part 3 - Training the ANN"
      ]
    },
    {
      "cell_type": "markdown",
      "metadata": {
        "id": "qDeylAs2An25"
      },
      "source": [
        "### Compiling the ANN"
      ]
    },
    {
      "cell_type": "code",
      "metadata": {
        "id": "pesgbWlCAtB4"
      },
      "source": [
        "ann.compile(optimizer = 'adam', loss = 'mean_squared_error')"
      ],
      "execution_count": 9,
      "outputs": []
    },
    {
      "cell_type": "markdown",
      "metadata": {
        "id": "YjVuiybYOo7r"
      },
      "source": [
        "### Training the ANN model on the Training set"
      ]
    },
    {
      "cell_type": "code",
      "metadata": {
        "id": "c_vV-tiiA5zn",
        "colab": {
          "base_uri": "https://localhost:8080/"
        },
        "outputId": "2265ac4c-5514-4a10-fb76-b8fdb2a214b8"
      },
      "source": [
        "ann.fit(X_train, y_train, batch_size = 32, epochs = 100)"
      ],
      "execution_count": 10,
      "outputs": [
        {
          "output_type": "stream",
          "name": "stdout",
          "text": [
            "Epoch 1/100\n",
            "240/240 [==============================] - 3s 4ms/step - loss: 14706.7920\n",
            "Epoch 2/100\n",
            "240/240 [==============================] - 1s 4ms/step - loss: 392.4519\n",
            "Epoch 3/100\n",
            "240/240 [==============================] - 1s 4ms/step - loss: 204.2281\n",
            "Epoch 4/100\n",
            "240/240 [==============================] - 1s 3ms/step - loss: 99.5472\n",
            "Epoch 5/100\n",
            "240/240 [==============================] - 2s 7ms/step - loss: 65.8114\n",
            "Epoch 6/100\n",
            "240/240 [==============================] - 2s 7ms/step - loss: 58.6404\n",
            "Epoch 7/100\n",
            "240/240 [==============================] - 1s 4ms/step - loss: 56.1037\n",
            "Epoch 8/100\n",
            "240/240 [==============================] - 1s 4ms/step - loss: 54.0118\n",
            "Epoch 9/100\n",
            "240/240 [==============================] - 1s 3ms/step - loss: 52.0117\n",
            "Epoch 10/100\n",
            "240/240 [==============================] - 1s 3ms/step - loss: 49.9501\n",
            "Epoch 11/100\n",
            "240/240 [==============================] - 1s 3ms/step - loss: 47.9758\n",
            "Epoch 12/100\n",
            "240/240 [==============================] - 1s 3ms/step - loss: 45.9814\n",
            "Epoch 13/100\n",
            "240/240 [==============================] - 1s 3ms/step - loss: 43.9095\n",
            "Epoch 14/100\n",
            "240/240 [==============================] - 1s 3ms/step - loss: 42.1520\n",
            "Epoch 15/100\n",
            "240/240 [==============================] - 0s 2ms/step - loss: 40.1352\n",
            "Epoch 16/100\n",
            "240/240 [==============================] - 0s 2ms/step - loss: 39.0341\n",
            "Epoch 17/100\n",
            "240/240 [==============================] - 0s 2ms/step - loss: 36.9458\n",
            "Epoch 18/100\n",
            "240/240 [==============================] - 0s 2ms/step - loss: 35.5228\n",
            "Epoch 19/100\n",
            "240/240 [==============================] - 0s 2ms/step - loss: 34.0343\n",
            "Epoch 20/100\n",
            "240/240 [==============================] - 0s 2ms/step - loss: 32.8447\n",
            "Epoch 21/100\n",
            "240/240 [==============================] - 0s 2ms/step - loss: 32.4209\n",
            "Epoch 22/100\n",
            "240/240 [==============================] - 0s 2ms/step - loss: 30.6456\n",
            "Epoch 23/100\n",
            "240/240 [==============================] - 0s 2ms/step - loss: 29.8692\n",
            "Epoch 24/100\n",
            "240/240 [==============================] - 1s 2ms/step - loss: 29.6662\n",
            "Epoch 25/100\n",
            "240/240 [==============================] - 1s 2ms/step - loss: 29.1172\n",
            "Epoch 26/100\n",
            "240/240 [==============================] - 1s 2ms/step - loss: 29.0700\n",
            "Epoch 27/100\n",
            "240/240 [==============================] - 1s 2ms/step - loss: 28.3140\n",
            "Epoch 28/100\n",
            "240/240 [==============================] - 1s 2ms/step - loss: 27.5637\n",
            "Epoch 29/100\n",
            "240/240 [==============================] - 1s 2ms/step - loss: 28.4670\n",
            "Epoch 30/100\n",
            "240/240 [==============================] - 0s 2ms/step - loss: 27.9652\n",
            "Epoch 31/100\n",
            "240/240 [==============================] - 0s 2ms/step - loss: 27.6229\n",
            "Epoch 32/100\n",
            "240/240 [==============================] - 0s 2ms/step - loss: 28.1788\n",
            "Epoch 33/100\n",
            "240/240 [==============================] - 0s 2ms/step - loss: 28.2559\n",
            "Epoch 34/100\n",
            "240/240 [==============================] - 0s 2ms/step - loss: 27.2764\n",
            "Epoch 35/100\n",
            "240/240 [==============================] - 0s 2ms/step - loss: 27.2452\n",
            "Epoch 36/100\n",
            "240/240 [==============================] - 0s 2ms/step - loss: 27.7380\n",
            "Epoch 37/100\n",
            "240/240 [==============================] - 0s 2ms/step - loss: 27.8035\n",
            "Epoch 38/100\n",
            "240/240 [==============================] - 0s 2ms/step - loss: 28.1022\n",
            "Epoch 39/100\n",
            "240/240 [==============================] - 0s 2ms/step - loss: 27.7564\n",
            "Epoch 40/100\n",
            "240/240 [==============================] - 0s 2ms/step - loss: 27.2753\n",
            "Epoch 41/100\n",
            "240/240 [==============================] - 0s 2ms/step - loss: 27.8777\n",
            "Epoch 42/100\n",
            "240/240 [==============================] - 0s 2ms/step - loss: 27.3406\n",
            "Epoch 43/100\n",
            "240/240 [==============================] - 0s 2ms/step - loss: 27.6978\n",
            "Epoch 44/100\n",
            "240/240 [==============================] - 0s 2ms/step - loss: 29.2335\n",
            "Epoch 45/100\n",
            "240/240 [==============================] - 0s 2ms/step - loss: 27.2000\n",
            "Epoch 46/100\n",
            "240/240 [==============================] - 0s 2ms/step - loss: 27.3014\n",
            "Epoch 47/100\n",
            "240/240 [==============================] - 0s 2ms/step - loss: 28.4993\n",
            "Epoch 48/100\n",
            "240/240 [==============================] - 0s 2ms/step - loss: 27.5500\n",
            "Epoch 49/100\n",
            "240/240 [==============================] - 0s 2ms/step - loss: 27.4599\n",
            "Epoch 50/100\n",
            "240/240 [==============================] - 0s 2ms/step - loss: 28.1313\n",
            "Epoch 51/100\n",
            "240/240 [==============================] - 0s 2ms/step - loss: 27.7081\n",
            "Epoch 52/100\n",
            "240/240 [==============================] - 1s 2ms/step - loss: 28.2121\n",
            "Epoch 53/100\n",
            "240/240 [==============================] - 1s 2ms/step - loss: 27.4029\n",
            "Epoch 54/100\n",
            "240/240 [==============================] - 1s 2ms/step - loss: 27.8566\n",
            "Epoch 55/100\n",
            "240/240 [==============================] - 1s 2ms/step - loss: 27.4284\n",
            "Epoch 56/100\n",
            "240/240 [==============================] - 1s 2ms/step - loss: 28.6806\n",
            "Epoch 57/100\n",
            "240/240 [==============================] - 1s 2ms/step - loss: 27.5413\n",
            "Epoch 58/100\n",
            "240/240 [==============================] - 0s 2ms/step - loss: 28.0154\n",
            "Epoch 59/100\n",
            "240/240 [==============================] - 0s 2ms/step - loss: 27.8908\n",
            "Epoch 60/100\n",
            "240/240 [==============================] - 0s 2ms/step - loss: 27.7206\n",
            "Epoch 61/100\n",
            "240/240 [==============================] - 0s 2ms/step - loss: 27.8741\n",
            "Epoch 62/100\n",
            "240/240 [==============================] - 0s 2ms/step - loss: 27.7589\n",
            "Epoch 63/100\n",
            "240/240 [==============================] - 0s 2ms/step - loss: 26.6599\n",
            "Epoch 64/100\n",
            "240/240 [==============================] - 0s 2ms/step - loss: 30.2802\n",
            "Epoch 65/100\n",
            "240/240 [==============================] - 0s 2ms/step - loss: 27.2746\n",
            "Epoch 66/100\n",
            "240/240 [==============================] - 0s 2ms/step - loss: 27.2528\n",
            "Epoch 67/100\n",
            "240/240 [==============================] - 0s 2ms/step - loss: 27.2811\n",
            "Epoch 68/100\n",
            "240/240 [==============================] - 1s 2ms/step - loss: 26.7157\n",
            "Epoch 69/100\n",
            "240/240 [==============================] - 1s 2ms/step - loss: 27.6088\n",
            "Epoch 70/100\n",
            "240/240 [==============================] - 1s 2ms/step - loss: 28.3330\n",
            "Epoch 71/100\n",
            "240/240 [==============================] - 1s 2ms/step - loss: 27.7242\n",
            "Epoch 72/100\n",
            "240/240 [==============================] - 1s 2ms/step - loss: 28.0863\n",
            "Epoch 73/100\n",
            "240/240 [==============================] - 1s 2ms/step - loss: 27.3895\n",
            "Epoch 74/100\n",
            "240/240 [==============================] - 0s 2ms/step - loss: 27.5696\n",
            "Epoch 75/100\n",
            "240/240 [==============================] - 0s 2ms/step - loss: 28.2057\n",
            "Epoch 76/100\n",
            "240/240 [==============================] - 0s 2ms/step - loss: 28.0131\n",
            "Epoch 77/100\n",
            "240/240 [==============================] - 0s 2ms/step - loss: 27.4031\n",
            "Epoch 78/100\n",
            "240/240 [==============================] - 0s 2ms/step - loss: 26.8035\n",
            "Epoch 79/100\n",
            "240/240 [==============================] - 1s 2ms/step - loss: 26.7453\n",
            "Epoch 80/100\n",
            "240/240 [==============================] - 1s 2ms/step - loss: 27.1734\n",
            "Epoch 81/100\n",
            "240/240 [==============================] - 1s 2ms/step - loss: 28.0728\n",
            "Epoch 82/100\n",
            "240/240 [==============================] - 1s 2ms/step - loss: 27.4928\n",
            "Epoch 83/100\n",
            "240/240 [==============================] - 1s 2ms/step - loss: 28.2219\n",
            "Epoch 84/100\n",
            "240/240 [==============================] - 1s 2ms/step - loss: 27.8741\n",
            "Epoch 85/100\n",
            "240/240 [==============================] - 1s 2ms/step - loss: 26.9835\n",
            "Epoch 86/100\n",
            "240/240 [==============================] - 0s 2ms/step - loss: 27.6651\n",
            "Epoch 87/100\n",
            "240/240 [==============================] - 0s 2ms/step - loss: 26.8040\n",
            "Epoch 88/100\n",
            "240/240 [==============================] - 0s 2ms/step - loss: 29.4189\n",
            "Epoch 89/100\n",
            "240/240 [==============================] - 0s 2ms/step - loss: 27.1855\n",
            "Epoch 90/100\n",
            "240/240 [==============================] - 0s 2ms/step - loss: 26.8411\n",
            "Epoch 91/100\n",
            "240/240 [==============================] - 0s 2ms/step - loss: 27.4321\n",
            "Epoch 92/100\n",
            "240/240 [==============================] - 0s 2ms/step - loss: 27.3687\n",
            "Epoch 93/100\n",
            "240/240 [==============================] - 0s 2ms/step - loss: 27.3042\n",
            "Epoch 94/100\n",
            "240/240 [==============================] - 0s 2ms/step - loss: 27.5446\n",
            "Epoch 95/100\n",
            "240/240 [==============================] - 0s 2ms/step - loss: 27.4287\n",
            "Epoch 96/100\n",
            "240/240 [==============================] - 0s 2ms/step - loss: 26.9711\n",
            "Epoch 97/100\n",
            "240/240 [==============================] - 0s 2ms/step - loss: 27.4831\n",
            "Epoch 98/100\n",
            "240/240 [==============================] - 0s 2ms/step - loss: 27.7506\n",
            "Epoch 99/100\n",
            "240/240 [==============================] - 0s 2ms/step - loss: 26.9068\n",
            "Epoch 100/100\n",
            "240/240 [==============================] - 0s 2ms/step - loss: 27.2249\n"
          ]
        },
        {
          "output_type": "execute_result",
          "data": {
            "text/plain": [
              "<keras.callbacks.History at 0x7f24952c98a0>"
            ]
          },
          "metadata": {},
          "execution_count": 10
        }
      ]
    },
    {
      "cell_type": "markdown",
      "metadata": {
        "id": "0H0zKKNEBLD5"
      },
      "source": [
        "### Predicting the results of the Test set"
      ]
    },
    {
      "cell_type": "code",
      "metadata": {
        "id": "IA0yApEmBG1X",
        "colab": {
          "base_uri": "https://localhost:8080/"
        },
        "outputId": "1e567424-dbd5-4d3d-eb33-5c25af9c72d4"
      },
      "source": [
        "y_pred = ann.predict(X_test)\n",
        "np.set_printoptions(precision=2)\n",
        "print(np.concatenate((y_pred.reshape(len(y_pred),1), y_test.reshape(len(y_test),1)),1))"
      ],
      "execution_count": 11,
      "outputs": [
        {
          "output_type": "stream",
          "name": "stdout",
          "text": [
            "60/60 [==============================] - 0s 1ms/step\n",
            "[[430.77 431.23]\n",
            " [462.73 460.01]\n",
            " [466.76 461.14]\n",
            " ...\n",
            " [473.77 473.26]\n",
            " [439.21 438.  ]\n",
            " [459.22 463.28]]\n"
          ]
        }
      ]
    }
  ]
}