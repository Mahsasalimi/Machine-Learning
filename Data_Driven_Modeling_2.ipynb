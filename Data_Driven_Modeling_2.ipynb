{
  "nbformat": 4,
  "nbformat_minor": 0,
  "metadata": {
    "colab": {
      "provenance": []
    },
    "kernelspec": {
      "name": "python3",
      "display_name": "Python 3"
    },
    "language_info": {
      "name": "python"
    }
  },
  "cells": [
    {
      "cell_type": "markdown",
      "source": [
        "# Step 1: Import packages and classes"
      ],
      "metadata": {
        "id": "-prtduGhsZjy"
      }
    },
    {
      "cell_type": "code",
      "execution_count": 1,
      "metadata": {
        "id": "GqWYSNxYJOi0"
      },
      "outputs": [],
      "source": [
        "import numpy as np\n",
        "from sklearn.linear_model import LinearRegression\n",
        "from sklearn.preprocessing import PolynomialFeatures"
      ]
    },
    {
      "cell_type": "markdown",
      "source": [
        "# Step 2a: Provide data"
      ],
      "metadata": {
        "id": "1laN63NtshyA"
      }
    },
    {
      "cell_type": "code",
      "source": [
        "x = [\n",
        "  [0, 1], [5, 1], [15, 2], [25, 5], [35, 11], [45, 15], [55, 34], [60, 35]\n",
        "]\n",
        "y = [4, 5, 20, 14, 32, 22, 38, 43]\n",
        "x, y = np.array(x), np.array(y)"
      ],
      "metadata": {
        "id": "s1ov2x6KJQr3"
      },
      "execution_count": 2,
      "outputs": []
    },
    {
      "cell_type": "markdown",
      "source": [
        "# Step 2b: Transform input data"
      ],
      "metadata": {
        "id": "J4vbiEffspGS"
      }
    },
    {
      "cell_type": "code",
      "source": [
        "x_ = PolynomialFeatures(degree=2, include_bias=False).fit_transform(x)"
      ],
      "metadata": {
        "id": "AVVb3ydEJS7D"
      },
      "execution_count": 3,
      "outputs": []
    },
    {
      "cell_type": "markdown",
      "source": [
        "# Step 3: Create a model and fit it"
      ],
      "metadata": {
        "id": "pq8AQgC0stww"
      }
    },
    {
      "cell_type": "code",
      "source": [
        "model = LinearRegression().fit(x_, y)"
      ],
      "metadata": {
        "id": "w3y1Un9bJW9u"
      },
      "execution_count": 4,
      "outputs": []
    },
    {
      "cell_type": "markdown",
      "source": [
        "# Step 4: Get results"
      ],
      "metadata": {
        "id": "3GC1BwZGsw0_"
      }
    },
    {
      "cell_type": "code",
      "source": [
        "r_sq = model.score(x_, y)\n",
        "intercept, coefficients = model.intercept_, model.coef_"
      ],
      "metadata": {
        "id": "GrTgpHA0JYSt"
      },
      "execution_count": 5,
      "outputs": []
    },
    {
      "cell_type": "markdown",
      "source": [
        "# Step 5: Predict response"
      ],
      "metadata": {
        "id": "Wr2gmQiFsz1G"
      }
    },
    {
      "cell_type": "code",
      "source": [
        "y_pred = model.predict(x_)"
      ],
      "metadata": {
        "id": "0imw3ysOJZsx"
      },
      "execution_count": 6,
      "outputs": []
    },
    {
      "cell_type": "markdown",
      "source": [
        "# # Step 6: Scores"
      ],
      "metadata": {
        "id": "T1snCi8Ss43f"
      }
    },
    {
      "cell_type": "code",
      "source": [
        "print(f\"coefficient of determination: {r_sq}\")\n",
        "print(f\"intercept: {intercept}\")\n",
        "print(f\"coefficients:\\n{coefficients}\")\n",
        "print(f\"predicted response:\\n{y_pred}\")"
      ],
      "metadata": {
        "colab": {
          "base_uri": "https://localhost:8080/"
        },
        "id": "5VYaRKIHJgo5",
        "outputId": "9bad559d-c8bf-4c08-eaba-67384774ad94"
      },
      "execution_count": 7,
      "outputs": [
        {
          "output_type": "stream",
          "name": "stdout",
          "text": [
            "coefficient of determination: 0.9453701449127822\n",
            "intercept: 0.8430556452395876\n",
            "coefficients:\n",
            "[ 2.44828275  0.16160353 -0.15259677  0.47928683 -0.4641851 ]\n",
            "predicted response:\n",
            "[ 0.54047408 11.36340283 16.07809622 15.79139    29.73858619 23.50834636\n",
            " 39.05631386 41.92339046]\n"
          ]
        }
      ]
    }
  ]
}